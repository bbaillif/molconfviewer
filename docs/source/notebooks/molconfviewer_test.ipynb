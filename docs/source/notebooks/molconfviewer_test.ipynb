{
 "cells": [
  {
   "cell_type": "code",
   "execution_count": 1,
   "metadata": {},
   "outputs": [],
   "source": [
    "from rdkit import Chem\n",
    "from rdkit.Chem.rdDistGeom import EmbedMultipleConfs\n",
    "from molconfviewer import MolConfViewer"
   ]
  },
  {
   "cell_type": "code",
   "execution_count": 2,
   "metadata": {},
   "outputs": [
    {
     "data": {
      "application/vnd.jupyter.widget-view+json": {
       "model_id": "a4960047f33e47a2991bc0c3d694c5b3",
       "version_major": 2,
       "version_minor": 0
      },
      "text/plain": [
       "interactive(children=(IntSlider(value=0, description='conf_id', max=9), Output()), _dom_classes=('widget-inter…"
      ]
     },
     "metadata": {},
     "output_type": "display_data"
    }
   ],
   "source": [
    "# only works in Jupyter\n",
    "mol = Chem.MolFromSmiles('CC(=O)OC1=CC=CC=C1C(=O)O')\n",
    "EmbedMultipleConfs(mol)\n",
    "MolConfViewer().view(mol)"
   ]
  }
 ],
 "metadata": {
  "interpreter": {
   "hash": "ebf91d53de87552995d32aefcfbc0e53d3da50921bc455f29e33a9ffe916c375"
  },
  "kernelspec": {
   "display_name": "Python 3",
   "language": "python",
   "name": "python3"
  },
  "language_info": {
   "codemirror_mode": {
    "name": "ipython",
    "version": 3
   },
   "file_extension": ".py",
   "mimetype": "text/x-python",
   "name": "python",
   "nbconvert_exporter": "python",
   "pygments_lexer": "ipython3",
   "version": "3.7.11"
  },
  "widgets": {
   "application/vnd.jupyter.widget-state+json": {
    "state": {
     "0ef326ad4af64691b7cd24d38e13e8b0": {
      "model_module": "@jupyter-widgets/base",
      "model_module_version": "1.2.0",
      "model_name": "LayoutModel",
      "state": {}
     },
     "55cebd7946514a559dbd9dd3c781ce9f": {
      "model_module": "@jupyter-widgets/controls",
      "model_module_version": "1.5.0",
      "model_name": "IntSliderModel",
      "state": {
       "description": "conf_id",
       "layout": "IPY_MODEL_cccf1d8e98a84753a355a4dd8b2488e1",
       "max": 9,
       "style": "IPY_MODEL_b4677de76cad4252b2648ef78cb437b0"
      }
     },
     "8cd88462d1544858bcd4139b2636a903": {
      "model_module": "@jupyter-widgets/output",
      "model_module_version": "1.0.0",
      "model_name": "OutputModel",
      "state": {
       "layout": "IPY_MODEL_92779d1010ac440fad97e5f9bc1825a7",
       "outputs": [
        {
         "data": {
          "application/3dmoljs_load.v0": "<div id=\"3dmolviewer_1644599682666032\"  style=\"position: relative; width: 300px; height: 300px\">\n        <p id=\"3dmolwarning_1644599682666032\" style=\"background-color:#ffcccc;color:black\">You appear to be running in JupyterLab (or JavaScript failed to load for some other reason).  You need to install the 3dmol extension: <br>\n        <tt>jupyter labextension install jupyterlab_3dmol</tt></p>\n        </div>\n<script>\n\nvar loadScriptAsync = function(uri){\n  return new Promise((resolve, reject) => {\n    var tag = document.createElement('script');\n    tag.src = uri;\n    tag.async = true;\n    tag.onload = () => {\n      resolve();\n    };\n  var firstScriptTag = document.getElementsByTagName('script')[0];\n  firstScriptTag.parentNode.insertBefore(tag, firstScriptTag);\n});\n};\n\nif(typeof $3Dmolpromise === 'undefined') {\n$3Dmolpromise = null;\n  $3Dmolpromise = loadScriptAsync('https://3dmol.org/build/3Dmol.js');\n}\n\nvar viewer_1644599682666032 = null;\nvar warn = document.getElementById(\"3dmolwarning_1644599682666032\");\nif(warn) {\n    warn.parentNode.removeChild(warn);\n}\n$3Dmolpromise.then(function() {\nviewer_1644599682666032 = $3Dmol.createViewer($(\"#3dmolviewer_1644599682666032\"),{backgroundColor:\"white\"});\nviewer_1644599682666032.zoomTo();\n\tviewer_1644599682666032.addModel(\"\\n     RDKit          3D\\n\\n 13 13  0  0  0  0  0  0  0  0999 V2000\\n    2.9960   -1.9275    0.8912 C   0  0  0  0  0  0  0  0  0  0  0  0\\n    1.5879   -1.4937    0.6697 C   0  0  0  0  0  0  0  0  0  0  0  0\\n    0.6735   -1.7274    1.5273 O   0  0  0  0  0  0  0  0  0  0  0  0\\n    1.1742   -0.8153   -0.4662 O   0  0  0  0  0  0  0  0  0  0  0  0\\n   -0.1489   -0.4265   -0.6380 C   0  0  0  0  0  0  0  0  0  0  0  0\\n   -1.0707   -1.2554   -1.2583 C   0  0  0  0  0  0  0  0  0  0  0  0\\n   -2.3802   -0.7853   -1.3894 C   0  0  0  0  0  0  0  0  0  0  0  0\\n   -2.7606    0.4387   -0.9325 C   0  0  0  0  0  0  0  0  0  0  0  0\\n   -1.8073    1.2426   -0.3153 C   0  0  0  0  0  0  0  0  0  0  0  0\\n   -0.5001    0.8219   -0.1623 C   0  0  0  0  0  0  0  0  0  0  0  0\\n    0.4716    1.6928    0.4902 C   0  0  0  0  0  0  0  0  0  0  0  0\\n    1.6610    1.3113    0.6301 O   0  0  0  0  0  0  0  0  0  0  0  0\\n    0.1035    2.9237    0.9535 O   0  0  0  0  0  0  0  0  0  0  0  0\\n  1  2  1  0\\n  2  3  2  0\\n  2  4  1  0\\n  4  5  1  0\\n  5  6  2  0\\n  6  7  1  0\\n  7  8  2  0\\n  8  9  1  0\\n  9 10  2  0\\n 10 11  1  0\\n 11 12  2  0\\n 11 13  1  0\\n 10  5  1  0\\nM  END\\n\",\"mol\");\n\tviewer_1644599682666032.setStyle({\"stick\": {}});\n\tviewer_1644599682666032.zoomTo();\nviewer_1644599682666032.render();\n});\n</script>",
          "text/html": "<div id=\"3dmolviewer_1644599682666032\"  style=\"position: relative; width: 300px; height: 300px\">\n        <p id=\"3dmolwarning_1644599682666032\" style=\"background-color:#ffcccc;color:black\">You appear to be running in JupyterLab (or JavaScript failed to load for some other reason).  You need to install the 3dmol extension: <br>\n        <tt>jupyter labextension install jupyterlab_3dmol</tt></p>\n        </div>\n<script>\n\nvar loadScriptAsync = function(uri){\n  return new Promise((resolve, reject) => {\n    var tag = document.createElement('script');\n    tag.src = uri;\n    tag.async = true;\n    tag.onload = () => {\n      resolve();\n    };\n  var firstScriptTag = document.getElementsByTagName('script')[0];\n  firstScriptTag.parentNode.insertBefore(tag, firstScriptTag);\n});\n};\n\nif(typeof $3Dmolpromise === 'undefined') {\n$3Dmolpromise = null;\n  $3Dmolpromise = loadScriptAsync('https://3dmol.org/build/3Dmol.js');\n}\n\nvar viewer_1644599682666032 = null;\nvar warn = document.getElementById(\"3dmolwarning_1644599682666032\");\nif(warn) {\n    warn.parentNode.removeChild(warn);\n}\n$3Dmolpromise.then(function() {\nviewer_1644599682666032 = $3Dmol.createViewer($(\"#3dmolviewer_1644599682666032\"),{backgroundColor:\"white\"});\nviewer_1644599682666032.zoomTo();\n\tviewer_1644599682666032.addModel(\"\\n     RDKit          3D\\n\\n 13 13  0  0  0  0  0  0  0  0999 V2000\\n    2.9960   -1.9275    0.8912 C   0  0  0  0  0  0  0  0  0  0  0  0\\n    1.5879   -1.4937    0.6697 C   0  0  0  0  0  0  0  0  0  0  0  0\\n    0.6735   -1.7274    1.5273 O   0  0  0  0  0  0  0  0  0  0  0  0\\n    1.1742   -0.8153   -0.4662 O   0  0  0  0  0  0  0  0  0  0  0  0\\n   -0.1489   -0.4265   -0.6380 C   0  0  0  0  0  0  0  0  0  0  0  0\\n   -1.0707   -1.2554   -1.2583 C   0  0  0  0  0  0  0  0  0  0  0  0\\n   -2.3802   -0.7853   -1.3894 C   0  0  0  0  0  0  0  0  0  0  0  0\\n   -2.7606    0.4387   -0.9325 C   0  0  0  0  0  0  0  0  0  0  0  0\\n   -1.8073    1.2426   -0.3153 C   0  0  0  0  0  0  0  0  0  0  0  0\\n   -0.5001    0.8219   -0.1623 C   0  0  0  0  0  0  0  0  0  0  0  0\\n    0.4716    1.6928    0.4902 C   0  0  0  0  0  0  0  0  0  0  0  0\\n    1.6610    1.3113    0.6301 O   0  0  0  0  0  0  0  0  0  0  0  0\\n    0.1035    2.9237    0.9535 O   0  0  0  0  0  0  0  0  0  0  0  0\\n  1  2  1  0\\n  2  3  2  0\\n  2  4  1  0\\n  4  5  1  0\\n  5  6  2  0\\n  6  7  1  0\\n  7  8  2  0\\n  8  9  1  0\\n  9 10  2  0\\n 10 11  1  0\\n 11 12  2  0\\n 11 13  1  0\\n 10  5  1  0\\nM  END\\n\",\"mol\");\n\tviewer_1644599682666032.setStyle({\"stick\": {}});\n\tviewer_1644599682666032.zoomTo();\nviewer_1644599682666032.render();\n});\n</script>"
         },
         "metadata": {},
         "output_type": "display_data"
        },
        {
         "data": {
          "text/plain": "<py3Dmol.view at 0x7f5ac5cc4450>"
         },
         "metadata": {},
         "output_type": "display_data"
        }
       ]
      }
     },
     "92779d1010ac440fad97e5f9bc1825a7": {
      "model_module": "@jupyter-widgets/base",
      "model_module_version": "1.2.0",
      "model_name": "LayoutModel",
      "state": {}
     },
     "a4960047f33e47a2991bc0c3d694c5b3": {
      "model_module": "@jupyter-widgets/controls",
      "model_module_version": "1.5.0",
      "model_name": "VBoxModel",
      "state": {
       "_dom_classes": [
        "widget-interact"
       ],
       "children": [
        "IPY_MODEL_55cebd7946514a559dbd9dd3c781ce9f",
        "IPY_MODEL_8cd88462d1544858bcd4139b2636a903"
       ],
       "layout": "IPY_MODEL_0ef326ad4af64691b7cd24d38e13e8b0"
      }
     },
     "b4677de76cad4252b2648ef78cb437b0": {
      "model_module": "@jupyter-widgets/controls",
      "model_module_version": "1.5.0",
      "model_name": "SliderStyleModel",
      "state": {
       "description_width": ""
      }
     },
     "cccf1d8e98a84753a355a4dd8b2488e1": {
      "model_module": "@jupyter-widgets/base",
      "model_module_version": "1.2.0",
      "model_name": "LayoutModel",
      "state": {}
     }
    },
    "version_major": 2,
    "version_minor": 0
   }
  }
 },
 "nbformat": 4,
 "nbformat_minor": 4
}
