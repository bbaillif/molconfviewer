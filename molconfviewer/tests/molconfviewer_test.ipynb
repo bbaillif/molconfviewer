{
 "cells": [
  {
   "cell_type": "code",
   "execution_count": 1,
   "metadata": {},
   "outputs": [],
   "source": [
    "from rdkit import Chem\n",
    "from rdkit.Chem.rdDistGeom import EmbedMultipleConfs\n",
    "from molconfviewer import MolConfViewer"
   ]
  },
  {
   "cell_type": "code",
   "execution_count": 3,
   "metadata": {},
   "outputs": [
    {
     "name": "stderr",
     "output_type": "stream",
     "text": [
      "RDKit WARNING: [13:43:14] Molecule does not have explicit Hs. Consider calling AddHs()\n",
      "[13:43:14] Molecule does not have explicit Hs. Consider calling AddHs()\n"
     ]
    },
    {
     "data": {
      "application/vnd.jupyter.widget-view+json": {
       "model_id": "0c293594454f4d9580f2a7dfe12cbca2",
       "version_major": 2,
       "version_minor": 0
      },
      "text/plain": [
       "interactive(children=(IntSlider(value=0, description='conf_id', max=9), Output()), _dom_classes=('widget-inter…"
      ]
     },
     "metadata": {},
     "output_type": "display_data"
    }
   ],
   "source": [
    "# only works in Jupyter\n",
    "mol = Chem.MolFromSmiles('c1ccccc1')\n",
    "EmbedMultipleConfs(mol)\n",
    "MolConfViewer().view(mol)"
   ]
  }
 ],
 "metadata": {
  "interpreter": {
   "hash": "ebf91d53de87552995d32aefcfbc0e53d3da50921bc455f29e33a9ffe916c375"
  },
  "kernelspec": {
   "display_name": "Python 3.7.10 ('GeoMol')",
   "language": "python",
   "name": "python3"
  },
  "language_info": {
   "codemirror_mode": {
    "name": "ipython",
    "version": 3
   },
   "file_extension": ".py",
   "mimetype": "text/x-python",
   "name": "python",
   "nbconvert_exporter": "python",
   "pygments_lexer": "ipython3",
   "version": "3.7.10"
  },
  "orig_nbformat": 4
 },
 "nbformat": 4,
 "nbformat_minor": 2
}
