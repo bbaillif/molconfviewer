{
 "cells": [
  {
   "cell_type": "code",
   "execution_count": 1,
   "metadata": {},
   "outputs": [],
   "source": [
    "from rdkit import Chem\n",
    "from rdkit.Chem.rdDistGeom import EmbedMultipleConfs\n",
    "from molconfviewer import MolConfViewer"
   ]
  },
  {
   "cell_type": "code",
   "execution_count": 4,
   "metadata": {},
   "outputs": [
    {
     "data": {
      "application/vnd.jupyter.widget-view+json": {
       "model_id": "47bc2b85f0e14ec6901c193e9725ce4d",
       "version_major": 2,
       "version_minor": 0
      },
      "text/plain": [
       "interactive(children=(IntSlider(value=0, description='conf_id', max=9), Output()), _dom_classes=('widget-inter…"
      ]
     },
     "metadata": {},
     "output_type": "display_data"
    }
   ],
   "source": [
    "# only works in Jupyter\n",
    "mol = Chem.MolFromSmiles('CC(=O)OC1=CC=CC=C1C(=O)O')\n",
    "EmbedMultipleConfs(mol)\n",
    "MolConfViewer().view(mol)"
   ]
  }
 ],
 "metadata": {
  "interpreter": {
   "hash": "ebf91d53de87552995d32aefcfbc0e53d3da50921bc455f29e33a9ffe916c375"
  },
  "kernelspec": {
   "display_name": "Python 3",
   "language": "python",
   "name": "python3"
  },
  "language_info": {
   "codemirror_mode": {
    "name": "ipython",
    "version": 3
   },
   "file_extension": ".py",
   "mimetype": "text/x-python",
   "name": "python",
   "nbconvert_exporter": "python",
   "pygments_lexer": "ipython3",
   "version": "3.7.11"
  },
  "widgets": {
   "application/vnd.jupyter.widget-state+json": {
    "state": {
     "00610e86289b4471a048d86313e06dc0": {
      "model_module": "@jupyter-widgets/controls",
      "model_module_version": "1.5.0",
      "model_name": "IntSliderModel",
      "state": {
       "description": "conf_id",
       "layout": "IPY_MODEL_434ff793ca67475493b2d70197a13be9",
       "max": 9,
       "style": "IPY_MODEL_9b1f926763f64563b007ea09adee7011"
      }
     },
     "114fc4e4e1cb461fb69319a983946e96": {
      "model_module": "@jupyter-widgets/controls",
      "model_module_version": "1.5.0",
      "model_name": "IntSliderModel",
      "state": {
       "description": "conf_id",
       "layout": "IPY_MODEL_439f573a304d4a13ac98b13597825217",
       "max": 9,
       "style": "IPY_MODEL_8b63c24d06b7493eab3434e233033279"
      }
     },
     "1250cc01941045449d3bf92dcb5666e4": {
      "model_module": "@jupyter-widgets/controls",
      "model_module_version": "1.5.0",
      "model_name": "VBoxModel",
      "state": {
       "_dom_classes": [
        "widget-interact"
       ],
       "children": [
        "IPY_MODEL_b101a7448693482db05dfa07e92a3f06",
        "IPY_MODEL_9c0461c94999495d88045cc667baa461"
       ],
       "layout": "IPY_MODEL_ad63dc85b75b4d5b9f53220846100a05"
      }
     },
     "1590e43c173a45cb8ddec1446cc2be78": {
      "model_module": "@jupyter-widgets/base",
      "model_module_version": "1.2.0",
      "model_name": "LayoutModel",
      "state": {}
     },
     "29309fca22d2482e99c9609a2d77b3f9": {
      "model_module": "@jupyter-widgets/output",
      "model_module_version": "1.0.0",
      "model_name": "OutputModel",
      "state": {
       "layout": "IPY_MODEL_1590e43c173a45cb8ddec1446cc2be78",
       "outputs": [
        {
         "data": {
          "application/3dmoljs_load.v0": "<div id=\"3dmolviewer_16445969603585598\"  style=\"position: relative; width: 300px; height: 300px\">\n        <p id=\"3dmolwarning_16445969603585598\" style=\"background-color:#ffcccc;color:black\">You appear to be running in JupyterLab (or JavaScript failed to load for some other reason).  You need to install the 3dmol extension: <br>\n        <tt>jupyter labextension install jupyterlab_3dmol</tt></p>\n        </div>\n<script>\n\nvar loadScriptAsync = function(uri){\n  return new Promise((resolve, reject) => {\n    var tag = document.createElement('script');\n    tag.src = uri;\n    tag.async = true;\n    tag.onload = () => {\n      resolve();\n    };\n  var firstScriptTag = document.getElementsByTagName('script')[0];\n  firstScriptTag.parentNode.insertBefore(tag, firstScriptTag);\n});\n};\n\nif(typeof $3Dmolpromise === 'undefined') {\n$3Dmolpromise = null;\n  $3Dmolpromise = loadScriptAsync('https://3dmol.org/build/3Dmol.js');\n}\n\nvar viewer_16445969603585598 = null;\nvar warn = document.getElementById(\"3dmolwarning_16445969603585598\");\nif(warn) {\n    warn.parentNode.removeChild(warn);\n}\n$3Dmolpromise.then(function() {\nviewer_16445969603585598 = $3Dmol.createViewer($(\"#3dmolviewer_16445969603585598\"),{backgroundColor:\"white\"});\nviewer_16445969603585598.zoomTo();\n\tviewer_16445969603585598.addModel(\"\\n     RDKit          3D\\n\\n 13 13  0  0  0  0  0  0  0  0999 V2000\\n    3.1657   -1.8750   -0.4007 C   0  0  0  0  0  0  0  0  0  0  0  0\\n    2.1423   -0.8680    0.0125 C   0  0  0  0  0  0  0  0  0  0  0  0\\n    2.0896   -0.4296    1.1910 O   0  0  0  0  0  0  0  0  0  0  0  0\\n    1.1971   -0.3611   -0.8718 O   0  0  0  0  0  0  0  0  0  0  0  0\\n    0.2514    0.5730   -0.4794 C   0  0  0  0  0  0  0  0  0  0  0  0\\n    0.4242    1.9387   -0.5360 C   0  0  0  0  0  0  0  0  0  0  0  0\\n   -0.5507    2.8269   -0.1322 C   0  0  0  0  0  0  0  0  0  0  0  0\\n   -1.7398    2.3301    0.3448 C   0  0  0  0  0  0  0  0  0  0  0  0\\n   -1.9576    0.9787    0.4197 C   0  0  0  0  0  0  0  0  0  0  0  0\\n   -0.9519    0.1098    0.0036 C   0  0  0  0  0  0  0  0  0  0  0  0\\n   -1.2606   -1.3082    0.1147 C   0  0  0  0  0  0  0  0  0  0  0  0\\n   -0.3684   -2.1136   -0.2547 O   0  0  0  0  0  0  0  0  0  0  0  0\\n   -2.4415   -1.8017    0.5884 O   0  0  0  0  0  0  0  0  0  0  0  0\\n  1  2  1  0\\n  2  3  2  0\\n  2  4  1  0\\n  4  5  1  0\\n  5  6  2  0\\n  6  7  1  0\\n  7  8  2  0\\n  8  9  1  0\\n  9 10  2  0\\n 10 11  1  0\\n 11 12  2  0\\n 11 13  1  0\\n 10  5  1  0\\nM  END\\n\",\"mol\");\n\tviewer_16445969603585598.setStyle({\"stick\": {}});\n\tviewer_16445969603585598.zoomTo();\nviewer_16445969603585598.render();\n});\n</script>",
          "text/html": "<div id=\"3dmolviewer_16445969603585598\"  style=\"position: relative; width: 300px; height: 300px\">\n        <p id=\"3dmolwarning_16445969603585598\" style=\"background-color:#ffcccc;color:black\">You appear to be running in JupyterLab (or JavaScript failed to load for some other reason).  You need to install the 3dmol extension: <br>\n        <tt>jupyter labextension install jupyterlab_3dmol</tt></p>\n        </div>\n<script>\n\nvar loadScriptAsync = function(uri){\n  return new Promise((resolve, reject) => {\n    var tag = document.createElement('script');\n    tag.src = uri;\n    tag.async = true;\n    tag.onload = () => {\n      resolve();\n    };\n  var firstScriptTag = document.getElementsByTagName('script')[0];\n  firstScriptTag.parentNode.insertBefore(tag, firstScriptTag);\n});\n};\n\nif(typeof $3Dmolpromise === 'undefined') {\n$3Dmolpromise = null;\n  $3Dmolpromise = loadScriptAsync('https://3dmol.org/build/3Dmol.js');\n}\n\nvar viewer_16445969603585598 = null;\nvar warn = document.getElementById(\"3dmolwarning_16445969603585598\");\nif(warn) {\n    warn.parentNode.removeChild(warn);\n}\n$3Dmolpromise.then(function() {\nviewer_16445969603585598 = $3Dmol.createViewer($(\"#3dmolviewer_16445969603585598\"),{backgroundColor:\"white\"});\nviewer_16445969603585598.zoomTo();\n\tviewer_16445969603585598.addModel(\"\\n     RDKit          3D\\n\\n 13 13  0  0  0  0  0  0  0  0999 V2000\\n    3.1657   -1.8750   -0.4007 C   0  0  0  0  0  0  0  0  0  0  0  0\\n    2.1423   -0.8680    0.0125 C   0  0  0  0  0  0  0  0  0  0  0  0\\n    2.0896   -0.4296    1.1910 O   0  0  0  0  0  0  0  0  0  0  0  0\\n    1.1971   -0.3611   -0.8718 O   0  0  0  0  0  0  0  0  0  0  0  0\\n    0.2514    0.5730   -0.4794 C   0  0  0  0  0  0  0  0  0  0  0  0\\n    0.4242    1.9387   -0.5360 C   0  0  0  0  0  0  0  0  0  0  0  0\\n   -0.5507    2.8269   -0.1322 C   0  0  0  0  0  0  0  0  0  0  0  0\\n   -1.7398    2.3301    0.3448 C   0  0  0  0  0  0  0  0  0  0  0  0\\n   -1.9576    0.9787    0.4197 C   0  0  0  0  0  0  0  0  0  0  0  0\\n   -0.9519    0.1098    0.0036 C   0  0  0  0  0  0  0  0  0  0  0  0\\n   -1.2606   -1.3082    0.1147 C   0  0  0  0  0  0  0  0  0  0  0  0\\n   -0.3684   -2.1136   -0.2547 O   0  0  0  0  0  0  0  0  0  0  0  0\\n   -2.4415   -1.8017    0.5884 O   0  0  0  0  0  0  0  0  0  0  0  0\\n  1  2  1  0\\n  2  3  2  0\\n  2  4  1  0\\n  4  5  1  0\\n  5  6  2  0\\n  6  7  1  0\\n  7  8  2  0\\n  8  9  1  0\\n  9 10  2  0\\n 10 11  1  0\\n 11 12  2  0\\n 11 13  1  0\\n 10  5  1  0\\nM  END\\n\",\"mol\");\n\tviewer_16445969603585598.setStyle({\"stick\": {}});\n\tviewer_16445969603585598.zoomTo();\nviewer_16445969603585598.render();\n});\n</script>"
         },
         "metadata": {},
         "output_type": "display_data"
        },
        {
         "data": {
          "text/plain": "<py3Dmol.view at 0x7f6d3e8761d0>"
         },
         "metadata": {},
         "output_type": "display_data"
        }
       ]
      }
     },
     "2f44f4ca100e493e991dc50434e69842": {
      "model_module": "@jupyter-widgets/controls",
      "model_module_version": "1.5.0",
      "model_name": "SliderStyleModel",
      "state": {
       "description_width": ""
      }
     },
     "434ff793ca67475493b2d70197a13be9": {
      "model_module": "@jupyter-widgets/base",
      "model_module_version": "1.2.0",
      "model_name": "LayoutModel",
      "state": {}
     },
     "439f573a304d4a13ac98b13597825217": {
      "model_module": "@jupyter-widgets/base",
      "model_module_version": "1.2.0",
      "model_name": "LayoutModel",
      "state": {}
     },
     "47bc2b85f0e14ec6901c193e9725ce4d": {
      "model_module": "@jupyter-widgets/controls",
      "model_module_version": "1.5.0",
      "model_name": "VBoxModel",
      "state": {
       "_dom_classes": [
        "widget-interact"
       ],
       "children": [
        "IPY_MODEL_114fc4e4e1cb461fb69319a983946e96",
        "IPY_MODEL_29309fca22d2482e99c9609a2d77b3f9"
       ],
       "layout": "IPY_MODEL_d60f2eb588794656a357f1b09cd3769f"
      }
     },
     "655b6d91ddca493787186382ccba2df8": {
      "model_module": "@jupyter-widgets/output",
      "model_module_version": "1.0.0",
      "model_name": "OutputModel",
      "state": {
       "layout": "IPY_MODEL_be0cf6fd16ac4399a5f9261b8ba906cb",
       "outputs": [
        {
         "data": {
          "application/3dmoljs_load.v0": "<div id=\"3dmolviewer_16445968236549704\"  style=\"position: relative; width: 300px; height: 300px\">\n        <p id=\"3dmolwarning_16445968236549704\" style=\"background-color:#ffcccc;color:black\">You appear to be running in JupyterLab (or JavaScript failed to load for some other reason).  You need to install the 3dmol extension: <br>\n        <tt>jupyter labextension install jupyterlab_3dmol</tt></p>\n        </div>\n<script>\n\nvar loadScriptAsync = function(uri){\n  return new Promise((resolve, reject) => {\n    var tag = document.createElement('script');\n    tag.src = uri;\n    tag.async = true;\n    tag.onload = () => {\n      resolve();\n    };\n  var firstScriptTag = document.getElementsByTagName('script')[0];\n  firstScriptTag.parentNode.insertBefore(tag, firstScriptTag);\n});\n};\n\nif(typeof $3Dmolpromise === 'undefined') {\n$3Dmolpromise = null;\n  $3Dmolpromise = loadScriptAsync('https://3dmol.org/build/3Dmol.js');\n}\n\nvar viewer_16445968236549704 = null;\nvar warn = document.getElementById(\"3dmolwarning_16445968236549704\");\nif(warn) {\n    warn.parentNode.removeChild(warn);\n}\n$3Dmolpromise.then(function() {\nviewer_16445968236549704 = $3Dmol.createViewer($(\"#3dmolviewer_16445968236549704\"),{backgroundColor:\"white\"});\nviewer_16445968236549704.zoomTo();\n\tviewer_16445968236549704.addModel(\"\\n     RDKit          3D\\n\\n  6  6  0  0  0  0  0  0  0  0999 V2000\\n   -1.0747    0.8094    0.2411 C   0  0  0  0  0  0  0  0  0  0  0  0\\n    0.1740    1.3722    0.0955 C   0  0  0  0  0  0  0  0  0  0  0  0\\n    1.2490    0.5519   -0.1466 C   0  0  0  0  0  0  0  0  0  0  0  0\\n    1.0637   -0.8057   -0.2391 C   0  0  0  0  0  0  0  0  0  0  0  0\\n   -0.1558   -1.3683   -0.0980 C   0  0  0  0  0  0  0  0  0  0  0  0\\n   -1.2561   -0.5595    0.1471 C   0  0  0  0  0  0  0  0  0  0  0  0\\n  1  2  2  0\\n  2  3  1  0\\n  3  4  2  0\\n  4  5  1  0\\n  5  6  2  0\\n  6  1  1  0\\nM  END\\n\",\"mol\");\n\tviewer_16445968236549704.setStyle({\"stick\": {}});\n\tviewer_16445968236549704.zoomTo();\nviewer_16445968236549704.render();\n});\n</script>",
          "text/html": "<div id=\"3dmolviewer_16445968236549704\"  style=\"position: relative; width: 300px; height: 300px\">\n        <p id=\"3dmolwarning_16445968236549704\" style=\"background-color:#ffcccc;color:black\">You appear to be running in JupyterLab (or JavaScript failed to load for some other reason).  You need to install the 3dmol extension: <br>\n        <tt>jupyter labextension install jupyterlab_3dmol</tt></p>\n        </div>\n<script>\n\nvar loadScriptAsync = function(uri){\n  return new Promise((resolve, reject) => {\n    var tag = document.createElement('script');\n    tag.src = uri;\n    tag.async = true;\n    tag.onload = () => {\n      resolve();\n    };\n  var firstScriptTag = document.getElementsByTagName('script')[0];\n  firstScriptTag.parentNode.insertBefore(tag, firstScriptTag);\n});\n};\n\nif(typeof $3Dmolpromise === 'undefined') {\n$3Dmolpromise = null;\n  $3Dmolpromise = loadScriptAsync('https://3dmol.org/build/3Dmol.js');\n}\n\nvar viewer_16445968236549704 = null;\nvar warn = document.getElementById(\"3dmolwarning_16445968236549704\");\nif(warn) {\n    warn.parentNode.removeChild(warn);\n}\n$3Dmolpromise.then(function() {\nviewer_16445968236549704 = $3Dmol.createViewer($(\"#3dmolviewer_16445968236549704\"),{backgroundColor:\"white\"});\nviewer_16445968236549704.zoomTo();\n\tviewer_16445968236549704.addModel(\"\\n     RDKit          3D\\n\\n  6  6  0  0  0  0  0  0  0  0999 V2000\\n   -1.0747    0.8094    0.2411 C   0  0  0  0  0  0  0  0  0  0  0  0\\n    0.1740    1.3722    0.0955 C   0  0  0  0  0  0  0  0  0  0  0  0\\n    1.2490    0.5519   -0.1466 C   0  0  0  0  0  0  0  0  0  0  0  0\\n    1.0637   -0.8057   -0.2391 C   0  0  0  0  0  0  0  0  0  0  0  0\\n   -0.1558   -1.3683   -0.0980 C   0  0  0  0  0  0  0  0  0  0  0  0\\n   -1.2561   -0.5595    0.1471 C   0  0  0  0  0  0  0  0  0  0  0  0\\n  1  2  2  0\\n  2  3  1  0\\n  3  4  2  0\\n  4  5  1  0\\n  5  6  2  0\\n  6  1  1  0\\nM  END\\n\",\"mol\");\n\tviewer_16445968236549704.setStyle({\"stick\": {}});\n\tviewer_16445968236549704.zoomTo();\nviewer_16445968236549704.render();\n});\n</script>"
         },
         "metadata": {},
         "output_type": "display_data"
        },
        {
         "data": {
          "text/plain": "<py3Dmol.view at 0x7f6d3e8e2390>"
         },
         "metadata": {},
         "output_type": "display_data"
        }
       ]
      }
     },
     "8b63c24d06b7493eab3434e233033279": {
      "model_module": "@jupyter-widgets/controls",
      "model_module_version": "1.5.0",
      "model_name": "SliderStyleModel",
      "state": {
       "description_width": ""
      }
     },
     "8df4e0623eaa4fc09cbe60bc9c16d99e": {
      "model_module": "@jupyter-widgets/base",
      "model_module_version": "1.2.0",
      "model_name": "LayoutModel",
      "state": {}
     },
     "9078528149cd4ad1b13158608f9615be": {
      "model_module": "@jupyter-widgets/base",
      "model_module_version": "1.2.0",
      "model_name": "LayoutModel",
      "state": {}
     },
     "9b1f926763f64563b007ea09adee7011": {
      "model_module": "@jupyter-widgets/controls",
      "model_module_version": "1.5.0",
      "model_name": "SliderStyleModel",
      "state": {
       "description_width": ""
      }
     },
     "9c0461c94999495d88045cc667baa461": {
      "model_module": "@jupyter-widgets/output",
      "model_module_version": "1.0.0",
      "model_name": "OutputModel",
      "state": {
       "layout": "IPY_MODEL_9078528149cd4ad1b13158608f9615be",
       "outputs": [
        {
         "data": {
          "application/3dmoljs_load.v0": "<div id=\"3dmolviewer_16445968530633814\"  style=\"position: relative; width: 300px; height: 300px\">\n        <p id=\"3dmolwarning_16445968530633814\" style=\"background-color:#ffcccc;color:black\">You appear to be running in JupyterLab (or JavaScript failed to load for some other reason).  You need to install the 3dmol extension: <br>\n        <tt>jupyter labextension install jupyterlab_3dmol</tt></p>\n        </div>\n<script>\n\nvar loadScriptAsync = function(uri){\n  return new Promise((resolve, reject) => {\n    var tag = document.createElement('script');\n    tag.src = uri;\n    tag.async = true;\n    tag.onload = () => {\n      resolve();\n    };\n  var firstScriptTag = document.getElementsByTagName('script')[0];\n  firstScriptTag.parentNode.insertBefore(tag, firstScriptTag);\n});\n};\n\nif(typeof $3Dmolpromise === 'undefined') {\n$3Dmolpromise = null;\n  $3Dmolpromise = loadScriptAsync('https://3dmol.org/build/3Dmol.js');\n}\n\nvar viewer_16445968530633814 = null;\nvar warn = document.getElementById(\"3dmolwarning_16445968530633814\");\nif(warn) {\n    warn.parentNode.removeChild(warn);\n}\n$3Dmolpromise.then(function() {\nviewer_16445968530633814 = $3Dmol.createViewer($(\"#3dmolviewer_16445968530633814\"),{backgroundColor:\"white\"});\nviewer_16445968530633814.zoomTo();\n\tviewer_16445968530633814.addModel(\"\\n     RDKit          3D\\n\\n 11 11  0  0  0  0  0  0  0  0999 V2000\\n    4.0431   -0.5417    0.0582 C   0  0  0  0  0  0  0  0  0  0  0  0\\n    2.5831   -0.4020   -0.2630 C   0  0  0  0  0  0  0  0  0  0  0  0\\n    2.1393   -0.5591   -1.4330 O   0  0  0  0  0  0  0  0  0  0  0  0\\n    1.6200   -0.0835    0.7411 N   0  0  0  0  0  0  0  0  0  0  0  0\\n    0.2388    0.0464    0.4246 C   0  0  0  0  0  0  0  0  0  0  0  0\\n   -0.6151    0.3556    1.4588 C   0  0  0  0  0  0  0  0  0  0  0  0\\n   -1.9541    0.4955    1.2275 C   0  0  0  0  0  0  0  0  0  0  0  0\\n   -2.4544    0.3253   -0.0547 C   0  0  0  0  0  0  0  0  0  0  0  0\\n   -1.5729    0.0148   -1.0754 C   0  0  0  0  0  0  0  0  0  0  0  0\\n   -0.2195   -0.1280   -0.8488 C   0  0  0  0  0  0  0  0  0  0  0  0\\n   -3.8084    0.4767   -0.2353 O   0  0  0  0  0  0  0  0  0  0  0  0\\n  1  2  1  0\\n  2  3  2  0\\n  2  4  1  0\\n  4  5  1  0\\n  5  6  2  0\\n  6  7  1  0\\n  7  8  2  0\\n  8  9  1  0\\n  9 10  2  0\\n  8 11  1  0\\n 10  5  1  0\\nM  END\\n\",\"mol\");\n\tviewer_16445968530633814.setStyle({\"stick\": {}});\n\tviewer_16445968530633814.zoomTo();\nviewer_16445968530633814.render();\n});\n</script>",
          "text/html": "<div id=\"3dmolviewer_16445968530633814\"  style=\"position: relative; width: 300px; height: 300px\">\n        <p id=\"3dmolwarning_16445968530633814\" style=\"background-color:#ffcccc;color:black\">You appear to be running in JupyterLab (or JavaScript failed to load for some other reason).  You need to install the 3dmol extension: <br>\n        <tt>jupyter labextension install jupyterlab_3dmol</tt></p>\n        </div>\n<script>\n\nvar loadScriptAsync = function(uri){\n  return new Promise((resolve, reject) => {\n    var tag = document.createElement('script');\n    tag.src = uri;\n    tag.async = true;\n    tag.onload = () => {\n      resolve();\n    };\n  var firstScriptTag = document.getElementsByTagName('script')[0];\n  firstScriptTag.parentNode.insertBefore(tag, firstScriptTag);\n});\n};\n\nif(typeof $3Dmolpromise === 'undefined') {\n$3Dmolpromise = null;\n  $3Dmolpromise = loadScriptAsync('https://3dmol.org/build/3Dmol.js');\n}\n\nvar viewer_16445968530633814 = null;\nvar warn = document.getElementById(\"3dmolwarning_16445968530633814\");\nif(warn) {\n    warn.parentNode.removeChild(warn);\n}\n$3Dmolpromise.then(function() {\nviewer_16445968530633814 = $3Dmol.createViewer($(\"#3dmolviewer_16445968530633814\"),{backgroundColor:\"white\"});\nviewer_16445968530633814.zoomTo();\n\tviewer_16445968530633814.addModel(\"\\n     RDKit          3D\\n\\n 11 11  0  0  0  0  0  0  0  0999 V2000\\n    4.0431   -0.5417    0.0582 C   0  0  0  0  0  0  0  0  0  0  0  0\\n    2.5831   -0.4020   -0.2630 C   0  0  0  0  0  0  0  0  0  0  0  0\\n    2.1393   -0.5591   -1.4330 O   0  0  0  0  0  0  0  0  0  0  0  0\\n    1.6200   -0.0835    0.7411 N   0  0  0  0  0  0  0  0  0  0  0  0\\n    0.2388    0.0464    0.4246 C   0  0  0  0  0  0  0  0  0  0  0  0\\n   -0.6151    0.3556    1.4588 C   0  0  0  0  0  0  0  0  0  0  0  0\\n   -1.9541    0.4955    1.2275 C   0  0  0  0  0  0  0  0  0  0  0  0\\n   -2.4544    0.3253   -0.0547 C   0  0  0  0  0  0  0  0  0  0  0  0\\n   -1.5729    0.0148   -1.0754 C   0  0  0  0  0  0  0  0  0  0  0  0\\n   -0.2195   -0.1280   -0.8488 C   0  0  0  0  0  0  0  0  0  0  0  0\\n   -3.8084    0.4767   -0.2353 O   0  0  0  0  0  0  0  0  0  0  0  0\\n  1  2  1  0\\n  2  3  2  0\\n  2  4  1  0\\n  4  5  1  0\\n  5  6  2  0\\n  6  7  1  0\\n  7  8  2  0\\n  8  9  1  0\\n  9 10  2  0\\n  8 11  1  0\\n 10  5  1  0\\nM  END\\n\",\"mol\");\n\tviewer_16445968530633814.setStyle({\"stick\": {}});\n\tviewer_16445968530633814.zoomTo();\nviewer_16445968530633814.render();\n});\n</script>"
         },
         "metadata": {},
         "output_type": "display_data"
        },
        {
         "data": {
          "text/plain": "<py3Dmol.view at 0x7f6d3e888210>"
         },
         "metadata": {},
         "output_type": "display_data"
        }
       ]
      }
     },
     "ad63dc85b75b4d5b9f53220846100a05": {
      "model_module": "@jupyter-widgets/base",
      "model_module_version": "1.2.0",
      "model_name": "LayoutModel",
      "state": {}
     },
     "b101a7448693482db05dfa07e92a3f06": {
      "model_module": "@jupyter-widgets/controls",
      "model_module_version": "1.5.0",
      "model_name": "IntSliderModel",
      "state": {
       "description": "conf_id",
       "layout": "IPY_MODEL_8df4e0623eaa4fc09cbe60bc9c16d99e",
       "max": 9,
       "style": "IPY_MODEL_2f44f4ca100e493e991dc50434e69842",
       "value": 3
      }
     },
     "be0cf6fd16ac4399a5f9261b8ba906cb": {
      "model_module": "@jupyter-widgets/base",
      "model_module_version": "1.2.0",
      "model_name": "LayoutModel",
      "state": {}
     },
     "d60f2eb588794656a357f1b09cd3769f": {
      "model_module": "@jupyter-widgets/base",
      "model_module_version": "1.2.0",
      "model_name": "LayoutModel",
      "state": {}
     },
     "d8642d963c614359b7c8e50487402575": {
      "model_module": "@jupyter-widgets/controls",
      "model_module_version": "1.5.0",
      "model_name": "VBoxModel",
      "state": {
       "_dom_classes": [
        "widget-interact"
       ],
       "children": [
        "IPY_MODEL_00610e86289b4471a048d86313e06dc0",
        "IPY_MODEL_655b6d91ddca493787186382ccba2df8"
       ],
       "layout": "IPY_MODEL_eac1857d01304ed19b93ac453c2903b6"
      }
     },
     "eac1857d01304ed19b93ac453c2903b6": {
      "model_module": "@jupyter-widgets/base",
      "model_module_version": "1.2.0",
      "model_name": "LayoutModel",
      "state": {}
     }
    },
    "version_major": 2,
    "version_minor": 0
   }
  }
 },
 "nbformat": 4,
 "nbformat_minor": 4
}
